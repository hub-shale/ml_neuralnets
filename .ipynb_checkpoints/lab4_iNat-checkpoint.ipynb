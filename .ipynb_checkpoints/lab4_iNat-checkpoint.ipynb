{
 "cells": [
  {
   "cell_type": "code",
   "execution_count": 1,
   "id": "7c017cbb-2ec2-461a-8fb8-0a7bdca242c4",
   "metadata": {},
   "outputs": [],
   "source": [
    "import keras\n"
   ]
  },
  {
   "cell_type": "markdown",
   "id": "0ba594fc-b54b-4bd0-a461-458d5fcffc3c",
   "metadata": {},
   "source": [
    "Image setup was done in R before this analysis."
   ]
  },
  {
   "cell_type": "markdown",
   "id": "0c65219f-0107-4656-a458-b73285d09f1c",
   "metadata": {},
   "source": [
    "# Neural Net, Binary Classification"
   ]
  },
  {
   "cell_type": "code",
   "execution_count": null,
   "id": "9c47e75a-5905-450d-a5e9-9cd14df6c0de",
   "metadata": {},
   "outputs": [],
   "source": []
  },
  {
   "cell_type": "markdown",
   "id": "31254389-fc90-4727-98c8-076f0a6e5677",
   "metadata": {},
   "source": [
    "# Convolutional Neural Net, Binary Classification"
   ]
  },
  {
   "cell_type": "code",
   "execution_count": null,
   "id": "0064d943-686f-4e3f-b22c-7b8959d599d0",
   "metadata": {},
   "outputs": [],
   "source": []
  },
  {
   "cell_type": "markdown",
   "id": "792ae26f-fa82-4af8-be7a-a8506983f2d6",
   "metadata": {},
   "source": [
    "# Neural Net, Multiclass Classification"
   ]
  },
  {
   "cell_type": "code",
   "execution_count": null,
   "id": "459a7c0e-880e-456e-9ef4-4206296904e2",
   "metadata": {},
   "outputs": [],
   "source": []
  },
  {
   "cell_type": "markdown",
   "id": "93480c66-11b5-4578-b3d5-d0f4951d8406",
   "metadata": {},
   "source": [
    "# Convolutional Neural Net, Multiclass Classification"
   ]
  },
  {
   "cell_type": "code",
   "execution_count": null,
   "id": "5fb31808-41d7-4460-8ab6-a9a1b8447ba5",
   "metadata": {},
   "outputs": [],
   "source": []
  }
 ],
 "metadata": {
  "kernelspec": {
   "display_name": "Python 3 (ipykernel)",
   "language": "python",
   "name": "python3"
  },
  "language_info": {
   "codemirror_mode": {
    "name": "ipython",
    "version": 3
   },
   "file_extension": ".py",
   "mimetype": "text/x-python",
   "name": "python",
   "nbconvert_exporter": "python",
   "pygments_lexer": "ipython3",
   "version": "3.8.12"
  }
 },
 "nbformat": 4,
 "nbformat_minor": 5
}
